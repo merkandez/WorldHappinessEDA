{
 "cells": [
  {
   "cell_type": "markdown",
   "metadata": {},
   "source": [
    "# Análisis Exploratorio de Datos: Felicidad Global 2011–2024\n",
    "\n",
    "Este notebook realiza un análisis exploratorio sobre los factores que influyen en el nivel de felicidad de los países a lo largo del tiempo, utilizando datos del World Happiness Report.\n"
   ]
  },
  {
   "cell_type": "code",
   "execution_count": 1,
   "metadata": {},
   "outputs": [],
   "source": [
    "import pandas as pd\n",
    "import numpy as np\n",
    "import matplotlib.pyplot as plt\n",
    "import seaborn as sns\n",
    "\n",
    "sns.set_theme(style=\"whitegrid\")\n",
    "plt.rcParams['figure.figsize'] = (10, 6)"
   ]
  },
  {
   "cell_type": "code",
   "execution_count": 2,
   "metadata": {},
   "outputs": [
    {
     "name": "stdout",
     "output_type": "stream",
     "text": [
      "   Year  Rank Country name  Ladder score  upperwhisker  lowerwhisker  \\\n",
      "0  2024     1      Finland         7.736         7.810         7.662   \n",
      "1  2023   143  Afghanistan         1.721         1.775         1.667   \n",
      "2  2022   137  Afghanistan         1.859         1.923         1.795   \n",
      "3  2021   146  Afghanistan         2.404         2.469         2.339   \n",
      "4  2020   150  Afghanistan         2.523         2.596         2.449   \n",
      "\n",
      "   Explained by: Log GDP per capita  Explained by: Social support  \\\n",
      "0                             1.749                         1.783   \n",
      "1                             0.628                         0.000   \n",
      "2                             0.645                         0.000   \n",
      "3                             0.758                         0.000   \n",
      "4                             0.370                         0.000   \n",
      "\n",
      "   Explained by: Healthy life expectancy  \\\n",
      "0                                  0.824   \n",
      "1                                  0.242   \n",
      "2                                  0.087   \n",
      "3                                  0.289   \n",
      "4                                  0.126   \n",
      "\n",
      "   Explained by: Freedom to make life choices  Explained by: Generosity  \\\n",
      "0                                       0.986                     0.110   \n",
      "1                                       0.000                     0.091   \n",
      "2                                       0.000                     0.093   \n",
      "3                                       0.000                     0.089   \n",
      "4                                       0.000                     0.122   \n",
      "\n",
      "   Explained by: Perceptions of corruption  Dystopia + residual  \n",
      "0                                    0.502                1.782  \n",
      "1                                    0.088                0.672  \n",
      "2                                    0.059                0.976  \n",
      "3                                    0.005                1.263  \n",
      "4                                    0.010                1.895  \n"
     ]
    }
   ],
   "source": [
    "# Ruta de los archivos de datos (dataset)\n",
    "ruta = \"../data/Data+for+Figure+2.1+(2011–2024).xlsx\"\n",
    "\n",
    "# cargar el archivo con pandas\n",
    "df = pd.read_excel(ruta)\n",
    "\n",
    "# Mostrar las primeras filas del dataframe para verificar que se ha cargado correctamente\n",
    "print(df.head())"
   ]
  }
 ],
 "metadata": {
  "kernelspec": {
   "display_name": ".venv",
   "language": "python",
   "name": "python3"
  },
  "language_info": {
   "codemirror_mode": {
    "name": "ipython",
    "version": 3
   },
   "file_extension": ".py",
   "mimetype": "text/x-python",
   "name": "python",
   "nbconvert_exporter": "python",
   "pygments_lexer": "ipython3",
   "version": "3.12.4"
  }
 },
 "nbformat": 4,
 "nbformat_minor": 2
}
