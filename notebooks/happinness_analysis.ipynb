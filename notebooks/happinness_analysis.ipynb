{
 "cells": [
  {
   "cell_type": "markdown",
   "metadata": {},
   "source": [
    "# Análisis Exploratorio de Datos: Felicidad Global 2011–2024\n",
    "\n",
    "Este notebook realiza un análisis exploratorio sobre los factores que influyen en el nivel de felicidad de los países a lo largo del tiempo, utilizando datos del World Happiness Report.\n"
   ]
  },
  {
   "cell_type": "code",
   "execution_count": 5,
   "metadata": {},
   "outputs": [],
   "source": [
    "import pandas as pd\n",
    "import numpy as np\n",
    "import matplotlib.pyplot as plt\n",
    "import seaborn as sns\n",
    "\n",
    "sns.set_theme(style=\"whitegrid\")\n",
    "plt.rcParams['figure.figsize'] = (10, 6)"
   ]
  },
  {
   "cell_type": "code",
   "execution_count": 6,
   "metadata": {},
   "outputs": [
    {
     "name": "stdout",
     "output_type": "stream",
     "text": [
      "   Year  Rank Country name  Ladder score  upperwhisker  lowerwhisker  \\\n",
      "0  2024     1      Finland         7.736         7.810         7.662   \n",
      "1  2023   143  Afghanistan         1.721         1.775         1.667   \n",
      "2  2022   137  Afghanistan         1.859         1.923         1.795   \n",
      "3  2021   146  Afghanistan         2.404         2.469         2.339   \n",
      "4  2020   150  Afghanistan         2.523         2.596         2.449   \n",
      "\n",
      "   Explained by: Log GDP per capita  Explained by: Social support  \\\n",
      "0                             1.749                         1.783   \n",
      "1                             0.628                         0.000   \n",
      "2                             0.645                         0.000   \n",
      "3                             0.758                         0.000   \n",
      "4                             0.370                         0.000   \n",
      "\n",
      "   Explained by: Healthy life expectancy  \\\n",
      "0                                  0.824   \n",
      "1                                  0.242   \n",
      "2                                  0.087   \n",
      "3                                  0.289   \n",
      "4                                  0.126   \n",
      "\n",
      "   Explained by: Freedom to make life choices  Explained by: Generosity  \\\n",
      "0                                       0.986                     0.110   \n",
      "1                                       0.000                     0.091   \n",
      "2                                       0.000                     0.093   \n",
      "3                                       0.000                     0.089   \n",
      "4                                       0.000                     0.122   \n",
      "\n",
      "   Explained by: Perceptions of corruption  Dystopia + residual  \n",
      "0                                    0.502                1.782  \n",
      "1                                    0.088                0.672  \n",
      "2                                    0.059                0.976  \n",
      "3                                    0.005                1.263  \n",
      "4                                    0.010                1.895  \n"
     ]
    }
   ],
   "source": [
    "# Ruta de los archivos de datos (dataset)\n",
    "ruta = \"../data/Data+for+Figure+2.1+(2011–2024).xlsx\"\n",
    "\n",
    "# cargar el archivo con pandas\n",
    "df = pd.read_excel(ruta)\n",
    "\n",
    "# Mostrar las primeras filas del dataframe para verificar que se ha cargado correctamente\n",
    "print(df.head())"
   ]
  },
  {
   "cell_type": "code",
   "execution_count": 7,
   "metadata": {},
   "outputs": [
    {
     "data": {
      "text/plain": [
       "(1969, 13)"
      ]
     },
     "execution_count": 7,
     "metadata": {},
     "output_type": "execute_result"
    }
   ],
   "source": [
    "# Ver el tamaño real del dataset\n",
    "\n",
    "df.shape"
   ]
  },
  {
   "cell_type": "markdown",
   "metadata": {},
   "source": [
    "### Ver las columnas con sus nombres y tipos de datos"
   ]
  },
  {
   "cell_type": "code",
   "execution_count": 8,
   "metadata": {},
   "outputs": [
    {
     "name": "stdout",
     "output_type": "stream",
     "text": [
      "<class 'pandas.core.frame.DataFrame'>\n",
      "RangeIndex: 1969 entries, 0 to 1968\n",
      "Data columns (total 13 columns):\n",
      " #   Column                                      Non-Null Count  Dtype  \n",
      "---  ------                                      --------------  -----  \n",
      " 0   Year                                        1969 non-null   int64  \n",
      " 1   Rank                                        1969 non-null   int64  \n",
      " 2   Country name                                1969 non-null   object \n",
      " 3   Ladder score                                1969 non-null   float64\n",
      " 4   upperwhisker                                875 non-null    float64\n",
      " 5   lowerwhisker                                875 non-null    float64\n",
      " 6   Explained by: Log GDP per capita            872 non-null    float64\n",
      " 7   Explained by: Social support                872 non-null    float64\n",
      " 8   Explained by: Healthy life expectancy       870 non-null    float64\n",
      " 9   Explained by: Freedom to make life choices  871 non-null    float64\n",
      " 10  Explained by: Generosity                    872 non-null    float64\n",
      " 11  Explained by: Perceptions of corruption     871 non-null    float64\n",
      " 12  Dystopia + residual                         868 non-null    float64\n",
      "dtypes: float64(10), int64(2), object(1)\n",
      "memory usage: 200.1+ KB\n",
      "None\n"
     ]
    }
   ],
   "source": [
    "print(df.info())"
   ]
  },
  {
   "cell_type": "code",
   "execution_count": 9,
   "metadata": {},
   "outputs": [
    {
     "data": {
      "text/plain": [
       "Year                                            int64\n",
       "Rank                                            int64\n",
       "Country name                                   object\n",
       "Ladder score                                  float64\n",
       "upperwhisker                                  float64\n",
       "lowerwhisker                                  float64\n",
       "Explained by: Log GDP per capita              float64\n",
       "Explained by: Social support                  float64\n",
       "Explained by: Healthy life expectancy         float64\n",
       "Explained by: Freedom to make life choices    float64\n",
       "Explained by: Generosity                      float64\n",
       "Explained by: Perceptions of corruption       float64\n",
       "Dystopia + residual                           float64\n",
       "dtype: object"
      ]
     },
     "execution_count": 9,
     "metadata": {},
     "output_type": "execute_result"
    }
   ],
   "source": [
    "df.dtypes"
   ]
  },
  {
   "cell_type": "markdown",
   "metadata": {},
   "source": [
    "### Ver los primeros registros con todas las columnas visibles"
   ]
  },
  {
   "cell_type": "code",
   "execution_count": 10,
   "metadata": {},
   "outputs": [
    {
     "data": {
      "application/vnd.microsoft.datawrangler.viewer.v0+json": {
       "columns": [
        {
         "name": "index",
         "rawType": "int64",
         "type": "integer"
        },
        {
         "name": "Year",
         "rawType": "int64",
         "type": "integer"
        },
        {
         "name": "Rank",
         "rawType": "int64",
         "type": "integer"
        },
        {
         "name": "Country name",
         "rawType": "object",
         "type": "string"
        },
        {
         "name": "Ladder score",
         "rawType": "float64",
         "type": "float"
        },
        {
         "name": "upperwhisker",
         "rawType": "float64",
         "type": "float"
        },
        {
         "name": "lowerwhisker",
         "rawType": "float64",
         "type": "float"
        },
        {
         "name": "Explained by: Log GDP per capita",
         "rawType": "float64",
         "type": "float"
        },
        {
         "name": "Explained by: Social support",
         "rawType": "float64",
         "type": "float"
        },
        {
         "name": "Explained by: Healthy life expectancy",
         "rawType": "float64",
         "type": "float"
        },
        {
         "name": "Explained by: Freedom to make life choices",
         "rawType": "float64",
         "type": "float"
        },
        {
         "name": "Explained by: Generosity",
         "rawType": "float64",
         "type": "float"
        },
        {
         "name": "Explained by: Perceptions of corruption",
         "rawType": "float64",
         "type": "float"
        },
        {
         "name": "Dystopia + residual",
         "rawType": "float64",
         "type": "float"
        }
       ],
       "conversionMethod": "pd.DataFrame",
       "ref": "291ad9eb-40da-4a68-a7ea-9db32e7afdda",
       "rows": [
        [
         "0",
         "2024",
         "1",
         "Finland",
         "7.736",
         "7.81",
         "7.662",
         "1.749",
         "1.783",
         "0.824",
         "0.986",
         "0.11",
         "0.502",
         "1.782"
        ],
        [
         "1",
         "2023",
         "143",
         "Afghanistan",
         "1.721",
         "1.775",
         "1.667",
         "0.628",
         "0.0",
         "0.242",
         "0.0",
         "0.091",
         "0.088",
         "0.672"
        ],
        [
         "2",
         "2022",
         "137",
         "Afghanistan",
         "1.859",
         "1.923",
         "1.795",
         "0.645",
         "0.0",
         "0.087",
         "0.0",
         "0.093",
         "0.059",
         "0.976"
        ],
        [
         "3",
         "2021",
         "146",
         "Afghanistan",
         "2.404",
         "2.469",
         "2.339",
         "0.758",
         "0.0",
         "0.289",
         "0.0",
         "0.089",
         "0.005",
         "1.263"
        ],
        [
         "4",
         "2020",
         "150",
         "Afghanistan",
         "2.523",
         "2.596",
         "2.449",
         "0.37",
         "0.0",
         "0.126",
         "0.0",
         "0.122",
         "0.01",
         "1.895"
        ],
        [
         "5",
         "2019",
         "153",
         "Afghanistan",
         "2.56690001487732",
         "2.62827038764954",
         "2.5055296421051",
         "0.300705850124359",
         "0.356433838605881",
         "0.266051530838013",
         "0.0",
         "0.135234713554382",
         "0.00122578535228968",
         "1.50723564624786"
        ],
        [
         "6",
         "2018",
         "154",
         "Afghanistan",
         "3.203",
         null,
         null,
         null,
         null,
         null,
         null,
         null,
         null,
         null
        ],
        [
         "7",
         "2017",
         "145",
         "Afghanistan",
         "3.632",
         null,
         null,
         null,
         null,
         null,
         null,
         null,
         null,
         null
        ],
        [
         "8",
         "2016",
         "141",
         "Afghanistan",
         "3.794",
         null,
         null,
         null,
         null,
         null,
         null,
         null,
         null,
         null
        ],
        [
         "9",
         "2015",
         "154",
         "Afghanistan",
         "3.36",
         null,
         null,
         null,
         null,
         null,
         null,
         null,
         null,
         null
        ]
       ],
       "shape": {
        "columns": 13,
        "rows": 10
       }
      },
      "text/html": [
       "<div>\n",
       "<style scoped>\n",
       "    .dataframe tbody tr th:only-of-type {\n",
       "        vertical-align: middle;\n",
       "    }\n",
       "\n",
       "    .dataframe tbody tr th {\n",
       "        vertical-align: top;\n",
       "    }\n",
       "\n",
       "    .dataframe thead th {\n",
       "        text-align: right;\n",
       "    }\n",
       "</style>\n",
       "<table border=\"1\" class=\"dataframe\">\n",
       "  <thead>\n",
       "    <tr style=\"text-align: right;\">\n",
       "      <th></th>\n",
       "      <th>Year</th>\n",
       "      <th>Rank</th>\n",
       "      <th>Country name</th>\n",
       "      <th>Ladder score</th>\n",
       "      <th>upperwhisker</th>\n",
       "      <th>lowerwhisker</th>\n",
       "      <th>Explained by: Log GDP per capita</th>\n",
       "      <th>Explained by: Social support</th>\n",
       "      <th>Explained by: Healthy life expectancy</th>\n",
       "      <th>Explained by: Freedom to make life choices</th>\n",
       "      <th>Explained by: Generosity</th>\n",
       "      <th>Explained by: Perceptions of corruption</th>\n",
       "      <th>Dystopia + residual</th>\n",
       "    </tr>\n",
       "  </thead>\n",
       "  <tbody>\n",
       "    <tr>\n",
       "      <th>0</th>\n",
       "      <td>2024</td>\n",
       "      <td>1</td>\n",
       "      <td>Finland</td>\n",
       "      <td>7.7360</td>\n",
       "      <td>7.81000</td>\n",
       "      <td>7.66200</td>\n",
       "      <td>1.749000</td>\n",
       "      <td>1.783000</td>\n",
       "      <td>0.824000</td>\n",
       "      <td>0.986</td>\n",
       "      <td>0.110000</td>\n",
       "      <td>0.502000</td>\n",
       "      <td>1.782000</td>\n",
       "    </tr>\n",
       "    <tr>\n",
       "      <th>1</th>\n",
       "      <td>2023</td>\n",
       "      <td>143</td>\n",
       "      <td>Afghanistan</td>\n",
       "      <td>1.7210</td>\n",
       "      <td>1.77500</td>\n",
       "      <td>1.66700</td>\n",
       "      <td>0.628000</td>\n",
       "      <td>0.000000</td>\n",
       "      <td>0.242000</td>\n",
       "      <td>0.000</td>\n",
       "      <td>0.091000</td>\n",
       "      <td>0.088000</td>\n",
       "      <td>0.672000</td>\n",
       "    </tr>\n",
       "    <tr>\n",
       "      <th>2</th>\n",
       "      <td>2022</td>\n",
       "      <td>137</td>\n",
       "      <td>Afghanistan</td>\n",
       "      <td>1.8590</td>\n",
       "      <td>1.92300</td>\n",
       "      <td>1.79500</td>\n",
       "      <td>0.645000</td>\n",
       "      <td>0.000000</td>\n",
       "      <td>0.087000</td>\n",
       "      <td>0.000</td>\n",
       "      <td>0.093000</td>\n",
       "      <td>0.059000</td>\n",
       "      <td>0.976000</td>\n",
       "    </tr>\n",
       "    <tr>\n",
       "      <th>3</th>\n",
       "      <td>2021</td>\n",
       "      <td>146</td>\n",
       "      <td>Afghanistan</td>\n",
       "      <td>2.4040</td>\n",
       "      <td>2.46900</td>\n",
       "      <td>2.33900</td>\n",
       "      <td>0.758000</td>\n",
       "      <td>0.000000</td>\n",
       "      <td>0.289000</td>\n",
       "      <td>0.000</td>\n",
       "      <td>0.089000</td>\n",
       "      <td>0.005000</td>\n",
       "      <td>1.263000</td>\n",
       "    </tr>\n",
       "    <tr>\n",
       "      <th>4</th>\n",
       "      <td>2020</td>\n",
       "      <td>150</td>\n",
       "      <td>Afghanistan</td>\n",
       "      <td>2.5230</td>\n",
       "      <td>2.59600</td>\n",
       "      <td>2.44900</td>\n",
       "      <td>0.370000</td>\n",
       "      <td>0.000000</td>\n",
       "      <td>0.126000</td>\n",
       "      <td>0.000</td>\n",
       "      <td>0.122000</td>\n",
       "      <td>0.010000</td>\n",
       "      <td>1.895000</td>\n",
       "    </tr>\n",
       "    <tr>\n",
       "      <th>5</th>\n",
       "      <td>2019</td>\n",
       "      <td>153</td>\n",
       "      <td>Afghanistan</td>\n",
       "      <td>2.5669</td>\n",
       "      <td>2.62827</td>\n",
       "      <td>2.50553</td>\n",
       "      <td>0.300706</td>\n",
       "      <td>0.356434</td>\n",
       "      <td>0.266052</td>\n",
       "      <td>0.000</td>\n",
       "      <td>0.135235</td>\n",
       "      <td>0.001226</td>\n",
       "      <td>1.507236</td>\n",
       "    </tr>\n",
       "    <tr>\n",
       "      <th>6</th>\n",
       "      <td>2018</td>\n",
       "      <td>154</td>\n",
       "      <td>Afghanistan</td>\n",
       "      <td>3.2030</td>\n",
       "      <td>NaN</td>\n",
       "      <td>NaN</td>\n",
       "      <td>NaN</td>\n",
       "      <td>NaN</td>\n",
       "      <td>NaN</td>\n",
       "      <td>NaN</td>\n",
       "      <td>NaN</td>\n",
       "      <td>NaN</td>\n",
       "      <td>NaN</td>\n",
       "    </tr>\n",
       "    <tr>\n",
       "      <th>7</th>\n",
       "      <td>2017</td>\n",
       "      <td>145</td>\n",
       "      <td>Afghanistan</td>\n",
       "      <td>3.6320</td>\n",
       "      <td>NaN</td>\n",
       "      <td>NaN</td>\n",
       "      <td>NaN</td>\n",
       "      <td>NaN</td>\n",
       "      <td>NaN</td>\n",
       "      <td>NaN</td>\n",
       "      <td>NaN</td>\n",
       "      <td>NaN</td>\n",
       "      <td>NaN</td>\n",
       "    </tr>\n",
       "    <tr>\n",
       "      <th>8</th>\n",
       "      <td>2016</td>\n",
       "      <td>141</td>\n",
       "      <td>Afghanistan</td>\n",
       "      <td>3.7940</td>\n",
       "      <td>NaN</td>\n",
       "      <td>NaN</td>\n",
       "      <td>NaN</td>\n",
       "      <td>NaN</td>\n",
       "      <td>NaN</td>\n",
       "      <td>NaN</td>\n",
       "      <td>NaN</td>\n",
       "      <td>NaN</td>\n",
       "      <td>NaN</td>\n",
       "    </tr>\n",
       "    <tr>\n",
       "      <th>9</th>\n",
       "      <td>2015</td>\n",
       "      <td>154</td>\n",
       "      <td>Afghanistan</td>\n",
       "      <td>3.3600</td>\n",
       "      <td>NaN</td>\n",
       "      <td>NaN</td>\n",
       "      <td>NaN</td>\n",
       "      <td>NaN</td>\n",
       "      <td>NaN</td>\n",
       "      <td>NaN</td>\n",
       "      <td>NaN</td>\n",
       "      <td>NaN</td>\n",
       "      <td>NaN</td>\n",
       "    </tr>\n",
       "  </tbody>\n",
       "</table>\n",
       "</div>"
      ],
      "text/plain": [
       "   Year  Rank Country name  Ladder score  upperwhisker  lowerwhisker  \\\n",
       "0  2024     1      Finland        7.7360       7.81000       7.66200   \n",
       "1  2023   143  Afghanistan        1.7210       1.77500       1.66700   \n",
       "2  2022   137  Afghanistan        1.8590       1.92300       1.79500   \n",
       "3  2021   146  Afghanistan        2.4040       2.46900       2.33900   \n",
       "4  2020   150  Afghanistan        2.5230       2.59600       2.44900   \n",
       "5  2019   153  Afghanistan        2.5669       2.62827       2.50553   \n",
       "6  2018   154  Afghanistan        3.2030           NaN           NaN   \n",
       "7  2017   145  Afghanistan        3.6320           NaN           NaN   \n",
       "8  2016   141  Afghanistan        3.7940           NaN           NaN   \n",
       "9  2015   154  Afghanistan        3.3600           NaN           NaN   \n",
       "\n",
       "   Explained by: Log GDP per capita  Explained by: Social support  \\\n",
       "0                          1.749000                      1.783000   \n",
       "1                          0.628000                      0.000000   \n",
       "2                          0.645000                      0.000000   \n",
       "3                          0.758000                      0.000000   \n",
       "4                          0.370000                      0.000000   \n",
       "5                          0.300706                      0.356434   \n",
       "6                               NaN                           NaN   \n",
       "7                               NaN                           NaN   \n",
       "8                               NaN                           NaN   \n",
       "9                               NaN                           NaN   \n",
       "\n",
       "   Explained by: Healthy life expectancy  \\\n",
       "0                               0.824000   \n",
       "1                               0.242000   \n",
       "2                               0.087000   \n",
       "3                               0.289000   \n",
       "4                               0.126000   \n",
       "5                               0.266052   \n",
       "6                                    NaN   \n",
       "7                                    NaN   \n",
       "8                                    NaN   \n",
       "9                                    NaN   \n",
       "\n",
       "   Explained by: Freedom to make life choices  Explained by: Generosity  \\\n",
       "0                                       0.986                  0.110000   \n",
       "1                                       0.000                  0.091000   \n",
       "2                                       0.000                  0.093000   \n",
       "3                                       0.000                  0.089000   \n",
       "4                                       0.000                  0.122000   \n",
       "5                                       0.000                  0.135235   \n",
       "6                                         NaN                       NaN   \n",
       "7                                         NaN                       NaN   \n",
       "8                                         NaN                       NaN   \n",
       "9                                         NaN                       NaN   \n",
       "\n",
       "   Explained by: Perceptions of corruption  Dystopia + residual  \n",
       "0                                 0.502000             1.782000  \n",
       "1                                 0.088000             0.672000  \n",
       "2                                 0.059000             0.976000  \n",
       "3                                 0.005000             1.263000  \n",
       "4                                 0.010000             1.895000  \n",
       "5                                 0.001226             1.507236  \n",
       "6                                      NaN                  NaN  \n",
       "7                                      NaN                  NaN  \n",
       "8                                      NaN                  NaN  \n",
       "9                                      NaN                  NaN  "
      ]
     },
     "metadata": {},
     "output_type": "display_data"
    }
   ],
   "source": [
    "with pd.option_context('display.max_columns', None):\n",
    "    display(df.head(10))"
   ]
  },
  {
   "cell_type": "markdown",
   "metadata": {},
   "source": [
    "#### Vemos cuantos países y años hay en total en el dataframe"
   ]
  },
  {
   "cell_type": "code",
   "execution_count": 11,
   "metadata": {},
   "outputs": [
    {
     "name": "stdout",
     "output_type": "stream",
     "text": [
      "Total de países: 169\n",
      "Total de años: 13\n"
     ]
    }
   ],
   "source": [
    "print(\"Total de países:\", df['Country name'].nunique())\n",
    "print(\"Total de años:\", df['Year'].nunique())"
   ]
  },
  {
   "cell_type": "markdown",
   "metadata": {},
   "source": [
    "#### Vamos a documentar las columnas con el fin de poder explicar el significado de cada columna"
   ]
  },
  {
   "cell_type": "markdown",
   "metadata": {},
   "source": [
    "#### 🧾 Descripción de las columnas del dataset - World Happiness Report\n",
    "\n",
    "| Columna                                 | Descripción                                                                 |\n",
    "|-----------------------------------------|------------------------------------------------------------------------------|\n",
    "| `Year`                                  | Año en el que se midieron los datos.                                        |\n",
    "| `Country name`                          | Nombre del país.                                                            |\n",
    "| `Ladder score`                          | Puntuación general de felicidad (escala 0 a 10).                            |\n",
    "| `Rank`                                  | Posición del país en el ranking global de felicidad.                        |\n",
    "| `upperwhisker` / `lowerwhisker`         | Límites superior e inferior del intervalo de confianza del `Ladder score`. |\n",
    "| `Explained by: Log GDP per capita`      | Parte del score explicada por el ingreso per cápita del país (logarítmico).|\n",
    "| `Explained by: Social support`          | Parte explicada por el apoyo social (familia, amigos, red de ayuda).       |\n",
    "| `Explained by: Healthy life expectancy` | Parte explicada por la expectativa de vida saludable.                       |\n",
    "| `Explained by: Freedom to make life choices` | Parte explicada por la libertad percibida para tomar decisiones.       |\n",
    "| `Explained by: Generosity`              | Parte explicada por la generosidad (donaciones, altruismo).                |\n",
    "| `Explained by: Perceptions of corruption` | Parte explicada por la corrupción percibida en gobierno/sociedad.        |\n",
    "| `Dystopia + residual`                   | Valor residual para completar el `Ladder score` (modelo interno).          |\n"
   ]
  },
  {
   "cell_type": "markdown",
   "metadata": {},
   "source": [
    "### ¿Qué estamos analizando?\n",
    "\n",
    "Cada fila representa un país en un año determinado.  \n",
    "El objetivo es entender qué factores (PIB, salud, libertad, etc.) están más relacionados con la felicidad de los países según el World Happiness Report.\n",
    "\n",
    "La columna `Ladder score` es la puntuación total de felicidad, y las columnas que empiezan por `Explained by:` explican cómo se construye ese score.\n",
    "\n",
    "Antes de seguir con limpieza o visualización, es importante tener claro **qué mide cada variable** y **qué tipo de análisis nos interesa realizar** (por ejemplo: comparaciones por país, evolución temporal, correlaciones entre factores...).\n"
   ]
  },
  {
   "cell_type": "markdown",
   "metadata": {},
   "source": [
    "#### Visualización general del dataset con los datos que tenemos completos (antes de la limpieza)"
   ]
  },
  {
   "cell_type": "code",
   "execution_count": 12,
   "metadata": {},
   "outputs": [
    {
     "data": {
      "image/png": "[encoded data removed]",
      "text/plain": [
       "<Figure size 1000x600 with 1 Axes>"
      ]
     },
     "metadata": {},
     "output_type": "display_data"
    }
   ],
   "source": [
    "# Calcular la media de felicidad global por año\n",
    "media_anual = df.groupby('Year')['Ladder score'].mean().reset_index()\n",
    "\n",
    "# Gráfico de línea: evolución de la felicidad global media\n",
    "sns.lineplot(data=media_anual, x='Year', y='Ladder score', marker = 'o')\n",
    "plt.title(\"Evolución de la felicidad global media por año (2011-2024)\")\n",
    "plt.ylabel(\"Puntuación media (Ladder score)\")\n",
    "plt.xlabel(\"Año\")\n",
    "plt.xticks(media_anual['Year'].unique())\n",
    "plt.grid(True)\n",
    "plt.show()\n"
   ]
  },
  {
   "cell_type": "code",
   "execution_count": 13,
   "metadata": {},
   "outputs": [
    {
     "data": {
      "text/plain": [
       "np.int64(2024)"
      ]
     },
     "execution_count": 13,
     "metadata": {},
     "output_type": "execute_result"
    }
   ],
   "source": [
    "# ¿Cuál es el último año con valores completos en Ladder score?\n",
    "df['Year'].max()\n"
   ]
  },
  {
   "cell_type": "markdown",
   "metadata": {},
   "source": [
    "### Ver los países más felices en el último año con datos completos"
   ]
  },
  {
   "cell_type": "code",
   "execution_count": 14,
   "metadata": {},
   "outputs": [
    {
     "data": {
      "image/png": "[encoded data removed]",
      "text/plain": [
       "<Figure size 1000x600 with 1 Axes>"
      ]
     },
     "metadata": {},
     "output_type": "display_data"
    }
   ],
   "source": [
    "# Filtrar solo el último año disponible\n",
    "ultimo_anio = df['Year'].max()\n",
    "df_ultimo_anio = df[df['Year'] == ultimo_anio]\n",
    "\n",
    "# Mostrar los 10 países más felices\n",
    "top_10 = df_ultimo_anio.sort_values('Ladder score', ascending=False).head(10)\n",
    "\n",
    "# Gráfico de barras\n",
    "sns.barplot(\n",
    "    data=top_10,\n",
    "    x='Ladder score',\n",
    "    y='Country name',\n",
    "    hue='Country name',\n",
    "    palette='viridis',\n",
    "    legend=False\n",
    ")\n",
    "plt.title(f\"Top 10 países más felices en {ultimo_anio}\")\n",
    "plt.xlabel(\"Ladder score\")\n",
    "plt.ylabel(\"País\")\n",
    "plt.show()\n"
   ]
  },
  {
   "cell_type": "markdown",
   "metadata": {},
   "source": [
    "### Ver los países menos felices en el último año disponible"
   ]
  },
  {
   "cell_type": "code",
   "execution_count": 15,
   "metadata": {},
   "outputs": [
    {
     "data": {
      "image/png": "[encoded data removed]",
      "text/plain": [
       "<Figure size 1000x600 with 1 Axes>"
      ]
     },
     "metadata": {},
     "output_type": "display_data"
    }
   ],
   "source": [
    "# Filtar solo el último año disponible\n",
    "\n",
    "ultimo_anio = df['Year'].max()\n",
    "df_ultimo_anio = df[df['Year'] == ultimo_anio]\n",
    "\n",
    "# Mostrar los 10 países menos felices\n",
    "bottom_10 = df_ultimo_anio.sort_values('Ladder score', ascending=True).head(10)\n",
    "\n",
    "# Gráfico de barras\n",
    "sns.barplot(\n",
    "    data=bottom_10,\n",
    "    x='Ladder score',\n",
    "    y='Country name',\n",
    "    hue='Country name',\n",
    "    palette='viridis',\n",
    "    legend=False\n",
    ")\n",
    "plt.title(f\"Bottom 10 países menos felices en {ultimo_anio}\")\n",
    "plt.xlabel(\"Ladder score\")\n",
    "plt.ylabel(\"País\")\n",
    "plt.show()\n"
   ]
  },
  {
   "cell_type": "markdown",
   "metadata": {},
   "source": [
    "### Ver comparativa entre año más antiguo y más reciente"
   ]
  },
  {
   "cell_type": "code",
   "execution_count": 16,
   "metadata": {},
   "outputs": [
    {
     "name": "stdout",
     "output_type": "stream",
     "text": [
      "Primer año: 2011\n",
      "Último año: 2024\n"
     ]
    }
   ],
   "source": [
    "# Filtrar el año más antiguo y el más reciente\n",
    "primer_anio = df['Year'].min()\n",
    "ultimo_anio = df['Year'].max()\n",
    "print(\"Primer año:\", primer_anio)\n",
    "print(\"Último año:\", ultimo_anio)\n",
    "\n",
    "df_inicio_fin = df[df['Year'].isin([primer_anio, ultimo_anio])]\n",
    "\n",
    "# Pivotar para comparar\n",
    "pivot_long = df_inicio_fin.pivot(index='Country name', columns='Year', values='Ladder score')\n",
    "pivot_long.dropna(inplace=True)\n",
    "pivot_long['Diferencia'] = pivot_long[ultimo_anio] - pivot_long[primer_anio]\n",
    "\n",
    "#Mostrar los países que más han mejorado\n",
    "mejores = pivot_long.sort_values('Diferencia', ascending=False).head(10)\n",
    "peores = pivot_long.sort_values('Diferencia', ascending=True).head(10)"
   ]
  },
  {
   "cell_type": "code",
   "execution_count": 17,
   "metadata": {},
   "outputs": [
    {
     "data": {
      "image/png": "[encoded data removed]",
      "text/plain": [
       "<Figure size 1000x600 with 1 Axes>"
      ]
     },
     "metadata": {},
     "output_type": "display_data"
    }
   ],
   "source": [
    "sns.barplot(data=mejores.reset_index(), x='Diferencia', y='Country name', palette='Greens', hue='Country name')\n",
    "plt.title(\"Top 10 países que más han mejorado su felicidad (2011-2024)\")\n",
    "plt.xlabel(\"Variación en Ladder score\")\n",
    "plt.ylabel(\"País\")\n",
    "plt.show()\n"
   ]
  },
  {
   "cell_type": "code",
   "execution_count": 18,
   "metadata": {},
   "outputs": [
    {
     "data": {
      "image/png": "[encoded data removed]",
      "text/plain": [
       "<Figure size 1000x600 with 1 Axes>"
      ]
     },
     "metadata": {},
     "output_type": "display_data"
    }
   ],
   "source": [
    "sns.barplot(data=peores.reset_index(), x='Diferencia', y='Country name', palette='Oranges_r', hue='Country name')\n",
    "plt.title(\"Top 10 países que más han empeorado su felicidad (2011-2024)\")\n",
    "plt.xlabel(\"Variación en Ladder score\")\n",
    "plt.ylabel(\"País\")\n",
    "plt.show()\n"
   ]
  },
  {
   "cell_type": "markdown",
   "metadata": {},
   "source": [
    "### 📊 Reflexión: Evolución de la felicidad global (2011–2024)\n",
    "\n",
    "El análisis de la evolución de la felicidad entre 2011 y 2024 revela dos tendencias claras:\n",
    "\n",
    "- 🟢 **Países que más han mejorado**: Serbia, Bulgaria, Georgia, Rumanía o Filipinas muestran un crecimiento significativo en su `Ladder score`. Muchos de estos países han atravesado procesos de estabilización política, integración europea o mejoras socioeconómicas en la última década.\n",
    "\n",
    "- 🔴 **Países que más han empeorado**: Afganistán, Líbano, Jordania, Venezuela o Yemen han sufrido importantes retrocesos. Estos descensos reflejan contextos de **conflictos, crisis humanitarias o inestabilidad política y económica** que afectan directamente al bienestar de sus ciudadanos.\n",
    "\n",
    "Estos resultados nos ayudan a entender que la felicidad no depende solo del desarrollo económico, sino también de **la estabilidad, la seguridad, la salud, y la gobernabilidad**. Este análisis aporta una visión valiosa antes de centrarnos en los factores que explican estos resultados.\n",
    "\n",
    "### Lo que refleja este análisis:\n",
    "\n",
    "- Correlación entre contextos geopolíticos y bienestar subjetivo.\n",
    "\n",
    "- La herramienta Ladder score sí capta las grandes dinámicas sociales.\n",
    "\n",
    "- La visualización sirve como base para formular hipótesis que luego contrastaremos con los factores (GDP, freedom, corruption, etc.)."
   ]
  },
  {
   "cell_type": "markdown",
   "metadata": {},
   "source": [
    "### ✳️ Resumen del análisis exploratorio - Parte 1: Visualización general\n",
    "\n",
    "Durante esta primera fase del análisis exploratorio del *World Happiness Report (2011–2024)*, se han llevado a cabo los siguientes pasos:\n",
    "\n",
    "#### ⚙️ 1. Preparación del entorno\n",
    "- Importación de librerías clave: `pandas`, `numpy`, `matplotlib`, `seaborn`.\n",
    "- Carga y exploración inicial del dataset `.xlsx`.\n",
    "- Revisión de estructura general, tipos de datos y valores nulos por columna.\n",
    "- Documentación completa del significado de cada columna.\n",
    "\n",
    "#### 👁️ 2. Visualización general y exploración de tendencias\n",
    "- Evolución de la felicidad media global por año (`Ladder score`).\n",
    "- Ranking de los países más felices y menos felices en el año más reciente disponible.\n",
    "- Análisis comparativo de evolución entre 2011 y 2024:\n",
    "  - 🔼 Países que más han **mejorado** su nivel de felicidad (ej. Serbia, Bulgaria, Georgia).\n",
    "  - 🔽 Países que más han **empeorado** (ej. Afganistán, Líbano, Venezuela).\n",
    "\n",
    "#### 📑 Conclusión de esta fase\n",
    "Este análisis preliminar permite visualizar tendencias claras y contextualizar los datos antes de proceder a la limpieza y estudio de los factores que explican el `Ladder score`.\n",
    "\n",
    "---"
   ]
  },
  {
   "cell_type": "markdown",
   "metadata": {},
   "source": [
    "## Próximos pasos: Limpieza de datos.\n",
    "1. 🔹Crear `df_limpio` con solo las filas completas en los factores explicativos \n",
    "    * Esto nos dará un subconjunto sólido sobre el que hacer análisis de correlación y visualizaciones claras.\n",
    "2. 🔹Ver cuántos datos nos quedamos y si hay suficiente variedad de países y años\n",
    "    * Así evaluamos si podemos sacar conclusiones significativas."
   ]
  },
  {
   "cell_type": "code",
   "execution_count": 19,
   "metadata": {},
   "outputs": [
    {
     "name": "stdout",
     "output_type": "stream",
     "text": [
      "Filas originales: 1969\n",
      "Filas después de limpieza: 868\n"
     ]
    }
   ],
   "source": [
    "# Lista de columnas explicativas\n",
    "columnas_factores = [\n",
    "    'Explained by: Log GDP per capita',\n",
    "    'Explained by: Social support',\n",
    "    'Explained by: Healthy life expectancy',\n",
    "    'Explained by: Freedom to make life choices',\n",
    "    'Explained by: Generosity',\n",
    "    'Explained by: Perceptions of corruption',\n",
    "    'Dystopia + residual'\n",
    "]\n",
    "\n",
    "# Crear una copia con solo las filas completas\n",
    "df_limpio = df.dropna(subset=columnas_factores).copy()\n",
    "\n",
    "# Verificar tamaño del nuevo dataset\n",
    "print(\"Filas originales:\", df.shape[0])\n",
    "print(\"Filas después de limpieza:\", df_limpio.shape[0])\n"
   ]
  },
  {
   "cell_type": "code",
   "execution_count": 20,
   "metadata": {},
   "outputs": [
    {
     "name": "stdout",
     "output_type": "stream",
     "text": [
      "Años únicos: [2024 2023 2022 2021 2020 2019]\n",
      "Número de países únicos: 157\n"
     ]
    },
    {
     "data": {
      "text/plain": [
       "Year\n",
       "2019    153\n",
       "2020    149\n",
       "2021    146\n",
       "2022    136\n",
       "2023    140\n",
       "2024    144\n",
       "Name: count, dtype: int64"
      ]
     },
     "execution_count": 20,
     "metadata": {},
     "output_type": "execute_result"
    }
   ],
   "source": [
    "print(\"Años únicos:\", df_limpio['Year'].unique())\n",
    "print(\"Número de países únicos:\", df_limpio['Country name'].nunique())\n",
    "\n",
    "# Número de registros por año\n",
    "df_limpio['Year'].value_counts().sort_index()\n"
   ]
  },
  {
   "cell_type": "markdown",
   "metadata": {},
   "source": [
    "#### Comprobamos y eliminamos duplicados"
   ]
  },
  {
   "cell_type": "code",
   "execution_count": 21,
   "metadata": {},
   "outputs": [
    {
     "name": "stdout",
     "output_type": "stream",
     "text": [
      "Duplicados encontrados: 0\n",
      "No se encontraron duplicados.\n"
     ]
    }
   ],
   "source": [
    "# ¿Cuántas filas duplicadas hay?\n",
    "duplicados = df_limpio.duplicated().sum()\n",
    "print(\"Duplicados encontrados:\", duplicados)\n",
    "\n",
    "# Si hay duplicados, eliminarlos\n",
    "if duplicados > 0:\n",
    "    df_limpio.drop_duplicates(inplace=True)\n",
    "    print(\"Duplicados eliminados.\")\n",
    "else:\n",
    "    print(\"No se encontraron duplicados.\")\n"
   ]
  },
  {
   "cell_type": "markdown",
   "metadata": {},
   "source": [
    "#### Verificar tipos de datos"
   ]
  },
  {
   "cell_type": "code",
   "execution_count": 22,
   "metadata": {},
   "outputs": [
    {
     "data": {
      "text/plain": [
       "Year                                            int64\n",
       "Rank                                            int64\n",
       "Country name                                   object\n",
       "Ladder score                                  float64\n",
       "upperwhisker                                  float64\n",
       "lowerwhisker                                  float64\n",
       "Explained by: Log GDP per capita              float64\n",
       "Explained by: Social support                  float64\n",
       "Explained by: Healthy life expectancy         float64\n",
       "Explained by: Freedom to make life choices    float64\n",
       "Explained by: Generosity                      float64\n",
       "Explained by: Perceptions of corruption       float64\n",
       "Dystopia + residual                           float64\n",
       "dtype: object"
      ]
     },
     "execution_count": 22,
     "metadata": {},
     "output_type": "execute_result"
    }
   ],
   "source": [
    "# Ver tipos de dato por columna\n",
    "df_limpio.dtypes\n"
   ]
  },
  {
   "cell_type": "markdown",
   "metadata": {},
   "source": [
    "### ✅ Se ha realizado una limpieza final del dataset\n",
    "\n",
    "- Se ha verificado la presencia de duplicados: eliminados si existían.\n",
    "- Se han revisado los tipos de datos de todas las columnas.\n",
    "- El dataframe `df_limpio` está preparado para el análisis por factores, conteniendo solo filas con información completa y fiable.\n"
   ]
  }
 ],
 "metadata": {
  "kernelspec": {
   "display_name": ".venv",
   "language": "python",
   "name": "python3"
  },
  "language_info": {
   "codemirror_mode": {
    "name": "ipython",
    "version": 3
   },
   "file_extension": ".py",
   "mimetype": "text/x-python",
   "name": "python",
   "nbconvert_exporter": "python",
   "pygments_lexer": "ipython3",
   "version": "3.12.4"
  }
 },
 "nbformat": 4,
 "nbformat_minor": 2
}
